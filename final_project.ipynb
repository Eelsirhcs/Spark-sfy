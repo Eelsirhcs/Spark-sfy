{
 "cells": [
  {
   "cell_type": "markdown",
   "metadata": {},
   "source": [
    "# Data exploration \n",
    "Libraries and creation of Spark session has to be run only once\n",
    "If you need to run again these steps, you have to restart the Kernel"
   ]
  },
  {
   "cell_type": "code",
   "execution_count": 1,
   "metadata": {},
   "outputs": [],
   "source": [
    "from pyspark.context import SparkContext\n",
    "from pyspark.sql.session import SparkSession\n",
    "sc = SparkContext(\"local[*]\")\n",
    "spark = SparkSession(sc)"
   ]
  },
  {
   "cell_type": "markdown",
   "metadata": {},
   "source": [
    "Open CSVs and show data schema. This will guide you when writing code"
   ]
  },
  {
   "cell_type": "code",
   "execution_count": 2,
   "metadata": {},
   "outputs": [],
   "source": [
    "\n",
    "df_b = spark.read.csv( \"yelp-dataset/yelp_business.csv\", header=True)\n",
    "df_r = spark.read.csv( \"yelp-dataset/yelp_review.csv\", header=True)\n",
    "df_a = spark.read.csv( \"yelp-dataset/yelp_business_attributes.csv\", header=True)\n"
   ]
  },
  {
   "cell_type": "code",
   "execution_count": 20,
   "metadata": {},
   "outputs": [
    {
     "name": "stdout",
     "output_type": "stream",
     "text": [
      "root\n",
      " |-- business_id: string (nullable = true)\n",
      " |-- name: string (nullable = true)\n",
      " |-- neighborhood: string (nullable = true)\n",
      " |-- address: string (nullable = true)\n",
      " |-- city: string (nullable = true)\n",
      " |-- state: string (nullable = true)\n",
      " |-- postal_code: string (nullable = true)\n",
      " |-- latitude: string (nullable = true)\n",
      " |-- longitude: string (nullable = true)\n",
      " |-- stars: string (nullable = true)\n",
      " |-- review_count: string (nullable = true)\n",
      " |-- is_open: string (nullable = true)\n",
      " |-- categories: string (nullable = true)\n",
      "\n",
      "None\n",
      "root\n",
      " |-- review_id: string (nullable = true)\n",
      " |-- user_id: string (nullable = true)\n",
      " |-- business_id: string (nullable = true)\n",
      " |-- stars: string (nullable = true)\n",
      " |-- date: string (nullable = true)\n",
      " |-- text: string (nullable = true)\n",
      " |-- useful: string (nullable = true)\n",
      " |-- funny: string (nullable = true)\n",
      " |-- cool: string (nullable = true)\n",
      "\n",
      "None\n",
      "root\n",
      " |-- business_id: string (nullable = true)\n",
      " |-- AcceptsInsurance: string (nullable = true)\n",
      " |-- ByAppointmentOnly: string (nullable = true)\n",
      " |-- BusinessAcceptsCreditCards: string (nullable = true)\n",
      " |-- BusinessParking_garage: string (nullable = true)\n",
      " |-- BusinessParking_street: string (nullable = true)\n",
      " |-- BusinessParking_validated: string (nullable = true)\n",
      " |-- BusinessParking_lot: string (nullable = true)\n",
      " |-- BusinessParking_valet: string (nullable = true)\n",
      " |-- HairSpecializesIn_coloring: string (nullable = true)\n",
      " |-- HairSpecializesIn_africanamerican: string (nullable = true)\n",
      " |-- HairSpecializesIn_curly: string (nullable = true)\n",
      " |-- HairSpecializesIn_perms: string (nullable = true)\n",
      " |-- HairSpecializesIn_kids: string (nullable = true)\n",
      " |-- HairSpecializesIn_extensions: string (nullable = true)\n",
      " |-- HairSpecializesIn_asian: string (nullable = true)\n",
      " |-- HairSpecializesIn_straightperms: string (nullable = true)\n",
      " |-- RestaurantsPriceRange2: string (nullable = true)\n",
      " |-- GoodForKids: string (nullable = true)\n",
      " |-- WheelchairAccessible: string (nullable = true)\n",
      " |-- BikeParking: string (nullable = true)\n",
      " |-- Alcohol: string (nullable = true)\n",
      " |-- HasTV: string (nullable = true)\n",
      " |-- NoiseLevel: string (nullable = true)\n",
      " |-- RestaurantsAttire: string (nullable = true)\n",
      " |-- Music_dj: string (nullable = true)\n",
      " |-- Music_background_music: string (nullable = true)\n",
      " |-- Music_no_music: string (nullable = true)\n",
      " |-- Music_karaoke: string (nullable = true)\n",
      " |-- Music_live: string (nullable = true)\n",
      " |-- Music_video: string (nullable = true)\n",
      " |-- Music_jukebox: string (nullable = true)\n",
      " |-- Ambience_romantic: string (nullable = true)\n",
      " |-- Ambience_intimate: string (nullable = true)\n",
      " |-- Ambience_classy: string (nullable = true)\n",
      " |-- Ambience_hipster: string (nullable = true)\n",
      " |-- Ambience_divey: string (nullable = true)\n",
      " |-- Ambience_touristy: string (nullable = true)\n",
      " |-- Ambience_trendy: string (nullable = true)\n",
      " |-- Ambience_upscale: string (nullable = true)\n",
      " |-- Ambience_casual: string (nullable = true)\n",
      " |-- RestaurantsGoodForGroups: string (nullable = true)\n",
      " |-- Caters: string (nullable = true)\n",
      " |-- WiFi: string (nullable = true)\n",
      " |-- RestaurantsReservations: string (nullable = true)\n",
      " |-- RestaurantsTakeOut: string (nullable = true)\n",
      " |-- HappyHour: string (nullable = true)\n",
      " |-- GoodForDancing: string (nullable = true)\n",
      " |-- RestaurantsTableService: string (nullable = true)\n",
      " |-- OutdoorSeating: string (nullable = true)\n",
      " |-- RestaurantsDelivery: string (nullable = true)\n",
      " |-- BestNights_monday: string (nullable = true)\n",
      " |-- BestNights_tuesday: string (nullable = true)\n",
      " |-- BestNights_friday: string (nullable = true)\n",
      " |-- BestNights_wednesday: string (nullable = true)\n",
      " |-- BestNights_thursday: string (nullable = true)\n",
      " |-- BestNights_sunday: string (nullable = true)\n",
      " |-- BestNights_saturday: string (nullable = true)\n",
      " |-- GoodForMeal_dessert: string (nullable = true)\n",
      " |-- GoodForMeal_latenight: string (nullable = true)\n",
      " |-- GoodForMeal_lunch: string (nullable = true)\n",
      " |-- GoodForMeal_dinner: string (nullable = true)\n",
      " |-- GoodForMeal_breakfast: string (nullable = true)\n",
      " |-- GoodForMeal_brunch: string (nullable = true)\n",
      " |-- CoatCheck: string (nullable = true)\n",
      " |-- Smoking: string (nullable = true)\n",
      " |-- DriveThru: string (nullable = true)\n",
      " |-- DogsAllowed: string (nullable = true)\n",
      " |-- BusinessAcceptsBitcoin: string (nullable = true)\n",
      " |-- Open24Hours: string (nullable = true)\n",
      " |-- BYOBCorkage: string (nullable = true)\n",
      " |-- BYOB: string (nullable = true)\n",
      " |-- Corkage: string (nullable = true)\n",
      " |-- DietaryRestrictions_dairy-free: string (nullable = true)\n",
      " |-- DietaryRestrictions_gluten-free: string (nullable = true)\n",
      " |-- DietaryRestrictions_vegan: string (nullable = true)\n",
      " |-- DietaryRestrictions_kosher: string (nullable = true)\n",
      " |-- DietaryRestrictions_halal: string (nullable = true)\n",
      " |-- DietaryRestrictions_soy-free: string (nullable = true)\n",
      " |-- DietaryRestrictions_vegetarian: string (nullable = true)\n",
      " |-- AgesAllowed: string (nullable = true)\n",
      " |-- RestaurantsCounterService: string (nullable = true)\n",
      "\n",
      "None\n"
     ]
    }
   ],
   "source": [
    "print(df_b.printSchema())\n",
    "print(df_r.printSchema())\n",
    "print(df_a.printSchema())"
   ]
  },
  {
   "cell_type": "markdown",
   "metadata": {},
   "source": [
    "# Number of reviews by category\n",
    "\n",
    "We need to figure out a way to identify the most sports business using categories and name fields\n",
    "\n",
    "The example below pulls categories that are not related to our case"
   ]
  },
  {
   "cell_type": "code",
   "execution_count": 7,
   "metadata": {},
   "outputs": [
    {
     "name": "stdout",
     "output_type": "stream",
     "text": [
      "+----------------------------------------------------------------------------------------------------------------------------------------------------+-----+\n",
      "|categories                                                                                                                                          |count|\n",
      "+----------------------------------------------------------------------------------------------------------------------------------------------------+-----+\n",
      "|Sporting Goods;Shopping                                                                                                                             |832  |\n",
      "|Shopping;Sporting Goods                                                                                                                             |812  |\n",
      "|Sporting Goods;Active Life;Guns & Ammo;Shopping;Gun/Rifle Ranges                                                                                    |466  |\n",
      "|Sporting Goods;Shopping;Bikes                                                                                                                       |380  |\n",
      "|Guns & Ammo;Shopping;Sporting Goods;Leisure Centers;Event Planning & Services;Active Life;Gun/Rifle Ranges;Venues & Event Spaces                    |373  |\n",
      "|Sporting Goods;Bikes;Shopping                                                                                                                       |353  |\n",
      "|Shopping;Bikes;Sporting Goods                                                                                                                       |318  |\n",
      "|Shopping;Sporting Goods;Bikes                                                                                                                       |289  |\n",
      "|Outdoor Gear;Shoe Stores;Fashion;Shopping;Sporting Goods;Hunting & Fishing Supplies                                                                 |273  |\n",
      "|Bikes;Shopping;Sporting Goods                                                                                                                       |254  |\n",
      "|Fashion;Shopping;Sports Wear;Sporting Goods;Shoe Stores                                                                                             |230  |\n",
      "|Bikes;Sporting Goods;Shopping                                                                                                                       |221  |\n",
      "|Sporting Goods;Guns & Ammo;Shopping;Active Life;Gun/Rifle Ranges                                                                                    |217  |\n",
      "|Hunting & Fishing Supplies;Hobby Shops;Outdoor Gear;Sports Wear;Fashion;Shopping;Sporting Goods;Guns & Ammo                                         |215  |\n",
      "|Furniture Stores;Sporting Goods;Home & Garden;Hunting & Fishing Supplies;Guns & Ammo;Shopping;Outdoor Gear                                          |211  |\n",
      "|Active Life;Shopping;Self-defense Classes;Fitness & Instruction;Education;Sporting Goods;Outdoor Gear;Specialty Schools;Guns & Ammo;Firearm Training|201  |\n",
      "|Shopping;Outdoor Gear;Active Life;Hotels & Travel;Sporting Goods;Bars;Tours;Golf;Beer;Wine & Spirits;Food;Nightlife                                 |158  |\n",
      "|Active Life;Sporting Goods;Shopping;Archery                                                                                                         |156  |\n",
      "|Shopping;Active Life;Women's Clothing;Bikes;Fashion;Men's Clothing;Sports Wear;Outdoor Gear;Sporting Goods                                          |139  |\n",
      "|Active Life;Guns & Ammo;Sporting Goods;Shopping;Gun/Rifle Ranges                                                                                    |131  |\n",
      "+----------------------------------------------------------------------------------------------------------------------------------------------------+-----+\n",
      "only showing top 20 rows\n",
      "\n"
     ]
    }
   ],
   "source": [
    "from pyspark.sql.functions import lower,col\n",
    "categories=df_r.join(df_b, [\"business_id\", \"business_id\"])\\\n",
    ".filter(lower(df_b[\"categories\"]).like(\"%sporting goods%\"))#\\\n",
    "\n",
    "import pyspark.sql.functions as func\n",
    "categories.groupby('categories').agg(func.count(func.lit(1)).alias('count'))\\\n",
    ".sort(col(\"count\").desc()).show(truncate=False)\n",
    "\n",
    "#.groupBy('categories').count().sort(col(\"count\").desc()).show(truncate=False)"
   ]
  },
  {
   "cell_type": "markdown",
   "metadata": {},
   "source": [
    "Using all categories with \"sporting goods\" in the description\n",
    "\n",
    "We get 1872 companies, 24340 reviews, and 1782 company attributes\n",
    "\n",
    "For testing we limit the reviews to 1000"
   ]
  },
  {
   "cell_type": "code",
   "execution_count": 3,
   "metadata": {},
   "outputs": [],
   "source": [
    "\n",
    "from pyspark.sql.functions import lower,col\n",
    "#spbus_df=df_b.filter(lower(df_b[\"categories\"]).like(\"%sport%\")|lower(df_b[\"name\"]).like(\"%sport%\"))\n",
    "spbus_df=df_b.filter(lower(df_b[\"categories\"]).like(\"%sporting goods%\"))\n",
    "###### REMOVE limit(1000) to run in the cluster\n",
    "sprev_df = df_r.join(spbus_df.select(\"business_id\"), [\"business_id\", \"business_id\"])#.limit(100)\n",
    "spatt_df = df_a.join(spbus_df, [\"business_id\", \"business_id\"])\n"
   ]
  },
  {
   "cell_type": "code",
   "execution_count": 4,
   "metadata": {},
   "outputs": [
    {
     "name": "stdout",
     "output_type": "stream",
     "text": [
      "1872\n",
      "24340\n",
      "1782\n"
     ]
    }
   ],
   "source": [
    "print (spbus_df.count())\n",
    "print(sprev_df.count())\n",
    "print (spatt_df.count())"
   ]
  },
  {
   "cell_type": "markdown",
   "metadata": {},
   "source": [
    "Checking how stars are spread on our data. It looks like we have a good spread among all 5 values"
   ]
  },
  {
   "cell_type": "code",
   "execution_count": 5,
   "metadata": {},
   "outputs": [
    {
     "name": "stdout",
     "output_type": "stream",
     "text": [
      "+-----+-----+\n",
      "|stars|count|\n",
      "+-----+-----+\n",
      "|    5|13745|\n",
      "|    4| 4181|\n",
      "|    1| 3489|\n",
      "|    3| 1567|\n",
      "|    2| 1358|\n",
      "+-----+-----+\n",
      "\n"
     ]
    }
   ],
   "source": [
    "sprev_df.groupBy('stars').count().sort(col(\"count\").desc()).show()"
   ]
  },
  {
   "cell_type": "markdown",
   "metadata": {},
   "source": [
    "Do some preliminary data cleaning and show number of records after cleaning"
   ]
  },
  {
   "cell_type": "code",
   "execution_count": 6,
   "metadata": {},
   "outputs": [],
   "source": [
    "from pyspark.sql.functions import udf, regexp_replace\n",
    "from pyspark.sql.types import ArrayType, StringType\n",
    "\n",
    "#Reviews\n",
    "sprev_df = sprev_df.withColumnRenamed(\"stars\", \"label\")\n",
    "sprev_df = sprev_df.withColumn(\"label\", sprev_df[\"label\"].cast(\"double\"))\n",
    "sprev_df = sprev_df.where(col(\"label\").isNotNull())\n",
    "sprev_df = sprev_df.na.fill(\"0\",[\"funny\", \"cool\",\"useful\"])\n",
    "sprev_df = sprev_df.select(\"text\", \"label\")\n",
    "# Clean text\n",
    "sprev_df = sprev_df.withColumn(\"text\", lower(regexp_replace(sprev_df[\"text\"],\"[^a-zA-Z\\\\s]\",\"\")))\n",
    "\n",
    "#Business\n",
    "spbus_df = spbus_df.dropna(subset=[\"latitude\",\"longitude\"])\n",
    "#Attributes\n",
    "spatt_df = spatt_df.na.fill(\"0\")\n",
    "#Show counts\n"
   ]
  },
  {
   "cell_type": "code",
   "execution_count": 7,
   "metadata": {},
   "outputs": [
    {
     "name": "stdout",
     "output_type": "stream",
     "text": [
      "1871\n",
      "24340\n",
      "1782\n"
     ]
    }
   ],
   "source": [
    "print (spbus_df.count())\n",
    "print(sprev_df.count())\n",
    "print (spatt_df.count())\n"
   ]
  },
  {
   "cell_type": "code",
   "execution_count": 9,
   "metadata": {},
   "outputs": [
    {
     "name": "stdout",
     "output_type": "stream",
     "text": [
      "+-----------+-----+\n",
      "|city       |count|\n",
      "+-----------+-----+\n",
      "|Las Vegas  |214  |\n",
      "|Toronto    |200  |\n",
      "|Phoenix    |160  |\n",
      "|Scottsdale |110  |\n",
      "|Charlotte  |84   |\n",
      "|Madison    |73   |\n",
      "|Tempe      |71   |\n",
      "|Mesa       |68   |\n",
      "|Montréal   |57   |\n",
      "|Henderson  |57   |\n",
      "|Pittsburgh |55   |\n",
      "|Edinburgh  |49   |\n",
      "|Chandler   |48   |\n",
      "|Glendale   |37   |\n",
      "|Gilbert    |37   |\n",
      "|Cleveland  |28   |\n",
      "|Stuttgart  |26   |\n",
      "|Peoria     |24   |\n",
      "|Mississauga|22   |\n",
      "|North York |17   |\n",
      "+-----------+-----+\n",
      "only showing top 20 rows\n",
      "\n"
     ]
    }
   ],
   "source": [
    "import pyspark.sql.functions as func\n",
    "spbus_df.groupby('city').agg(func.count(func.lit(1)).alias('count'))\\\n",
    ".sort(col(\"count\").desc()).show(truncate=False)\n",
    "\n",
    "#.groupBy('categories').count().sort(col(\"count\").desc()).show(truncate=False)"
   ]
  },
  {
   "cell_type": "code",
   "execution_count": 13,
   "metadata": {},
   "outputs": [
    {
     "name": "stdout",
     "output_type": "stream",
     "text": [
      "root\n",
      " |-- summary: string (nullable = true)\n",
      " |-- business_id: string (nullable = true)\n",
      " |-- business_id: string (nullable = true)\n",
      " |-- AcceptsInsurance: string (nullable = true)\n",
      " |-- ByAppointmentOnly: string (nullable = true)\n",
      " |-- BusinessAcceptsCreditCards: string (nullable = true)\n",
      " |-- BusinessParking_garage: string (nullable = true)\n",
      " |-- BusinessParking_street: string (nullable = true)\n",
      " |-- BusinessParking_validated: string (nullable = true)\n",
      " |-- BusinessParking_lot: string (nullable = true)\n",
      " |-- BusinessParking_valet: string (nullable = true)\n",
      " |-- HairSpecializesIn_coloring: string (nullable = true)\n",
      " |-- HairSpecializesIn_africanamerican: string (nullable = true)\n",
      " |-- HairSpecializesIn_curly: string (nullable = true)\n",
      " |-- HairSpecializesIn_perms: string (nullable = true)\n",
      " |-- HairSpecializesIn_kids: string (nullable = true)\n",
      " |-- HairSpecializesIn_extensions: string (nullable = true)\n",
      " |-- HairSpecializesIn_asian: string (nullable = true)\n",
      " |-- HairSpecializesIn_straightperms: string (nullable = true)\n",
      " |-- RestaurantsPriceRange2: string (nullable = true)\n",
      " |-- GoodForKids: string (nullable = true)\n",
      " |-- WheelchairAccessible: string (nullable = true)\n",
      " |-- BikeParking: string (nullable = true)\n",
      " |-- Alcohol: string (nullable = true)\n",
      " |-- HasTV: string (nullable = true)\n",
      " |-- NoiseLevel: string (nullable = true)\n",
      " |-- RestaurantsAttire: string (nullable = true)\n",
      " |-- Music_dj: string (nullable = true)\n",
      " |-- Music_background_music: string (nullable = true)\n",
      " |-- Music_no_music: string (nullable = true)\n",
      " |-- Music_karaoke: string (nullable = true)\n",
      " |-- Music_live: string (nullable = true)\n",
      " |-- Music_video: string (nullable = true)\n",
      " |-- Music_jukebox: string (nullable = true)\n",
      " |-- Ambience_romantic: string (nullable = true)\n",
      " |-- Ambience_intimate: string (nullable = true)\n",
      " |-- Ambience_classy: string (nullable = true)\n",
      " |-- Ambience_hipster: string (nullable = true)\n",
      " |-- Ambience_divey: string (nullable = true)\n",
      " |-- Ambience_touristy: string (nullable = true)\n",
      " |-- Ambience_trendy: string (nullable = true)\n",
      " |-- Ambience_upscale: string (nullable = true)\n",
      " |-- Ambience_casual: string (nullable = true)\n",
      " |-- RestaurantsGoodForGroups: string (nullable = true)\n",
      " |-- Caters: string (nullable = true)\n",
      " |-- WiFi: string (nullable = true)\n",
      " |-- RestaurantsReservations: string (nullable = true)\n",
      " |-- RestaurantsTakeOut: string (nullable = true)\n",
      " |-- HappyHour: string (nullable = true)\n",
      " |-- GoodForDancing: string (nullable = true)\n",
      " |-- RestaurantsTableService: string (nullable = true)\n",
      " |-- OutdoorSeating: string (nullable = true)\n",
      " |-- RestaurantsDelivery: string (nullable = true)\n",
      " |-- BestNights_monday: string (nullable = true)\n",
      " |-- BestNights_tuesday: string (nullable = true)\n",
      " |-- BestNights_friday: string (nullable = true)\n",
      " |-- BestNights_wednesday: string (nullable = true)\n",
      " |-- BestNights_thursday: string (nullable = true)\n",
      " |-- BestNights_sunday: string (nullable = true)\n",
      " |-- BestNights_saturday: string (nullable = true)\n",
      " |-- GoodForMeal_dessert: string (nullable = true)\n",
      " |-- GoodForMeal_latenight: string (nullable = true)\n",
      " |-- GoodForMeal_lunch: string (nullable = true)\n",
      " |-- GoodForMeal_dinner: string (nullable = true)\n",
      " |-- GoodForMeal_breakfast: string (nullable = true)\n",
      " |-- GoodForMeal_brunch: string (nullable = true)\n",
      " |-- CoatCheck: string (nullable = true)\n",
      " |-- Smoking: string (nullable = true)\n",
      " |-- DriveThru: string (nullable = true)\n",
      " |-- DogsAllowed: string (nullable = true)\n",
      " |-- BusinessAcceptsBitcoin: string (nullable = true)\n",
      " |-- Open24Hours: string (nullable = true)\n",
      " |-- BYOBCorkage: string (nullable = true)\n",
      " |-- BYOB: string (nullable = true)\n",
      " |-- Corkage: string (nullable = true)\n",
      " |-- DietaryRestrictions_dairy-free: string (nullable = true)\n",
      " |-- DietaryRestrictions_gluten-free: string (nullable = true)\n",
      " |-- DietaryRestrictions_vegan: string (nullable = true)\n",
      " |-- DietaryRestrictions_kosher: string (nullable = true)\n",
      " |-- DietaryRestrictions_halal: string (nullable = true)\n",
      " |-- DietaryRestrictions_soy-free: string (nullable = true)\n",
      " |-- DietaryRestrictions_vegetarian: string (nullable = true)\n",
      " |-- AgesAllowed: string (nullable = true)\n",
      " |-- RestaurantsCounterService: string (nullable = true)\n",
      " |-- name: string (nullable = true)\n",
      " |-- neighborhood: string (nullable = true)\n",
      " |-- address: string (nullable = true)\n",
      " |-- city: string (nullable = true)\n",
      " |-- state: string (nullable = true)\n",
      " |-- postal_code: string (nullable = true)\n",
      " |-- latitude: string (nullable = true)\n",
      " |-- longitude: string (nullable = true)\n",
      " |-- stars: string (nullable = true)\n",
      " |-- review_count: string (nullable = true)\n",
      " |-- is_open: string (nullable = true)\n",
      " |-- categories: string (nullable = true)\n",
      "\n"
     ]
    }
   ],
   "source": [
    "att.printSchema()"
   ]
  },
  {
   "cell_type": "code",
   "execution_count": null,
   "metadata": {},
   "outputs": [],
   "source": []
  },
  {
   "cell_type": "code",
   "execution_count": 14,
   "metadata": {},
   "outputs": [
    {
     "name": "stdout",
     "output_type": "stream",
     "text": [
      "+-----+--------------------+\n",
      "|label|                text|\n",
      "+-----+--------------------+\n",
      "|  5.0|i just love love ...|\n",
      "|  1.0|i have been calli...|\n",
      "|  3.0|it was picking up...|\n",
      "|  4.0|how can you not l...|\n",
      "|  3.0|not a bad store i...|\n",
      "|  3.0|while it may be b...|\n",
      "|  2.0|the only time i w...|\n",
      "|  5.0|i am not sure how...|\n",
      "|  5.0|im not a runner i...|\n",
      "|  2.0|i saw that the ru...|\n",
      "|  2.0|ah yes finish lin...|\n",
      "|  3.0|so i will say tha...|\n",
      "|  4.0|what can you say ...|\n",
      "|  5.0|well i have been ...|\n",
      "|  5.0|the better of the...|\n",
      "|  3.0|i am familiar wit...|\n",
      "|  3.0|on the smaller si...|\n",
      "|  4.0|rei is heaven for...|\n",
      "|  4.0|bikesource is a g...|\n",
      "|  2.0|local outdoor sto...|\n",
      "+-----+--------------------+\n",
      "only showing top 20 rows\n",
      "\n"
     ]
    }
   ],
   "source": [
    "#clean data to start preprocessing\n",
    "sprev_df.select(\"label\",\"text\").show()"
   ]
  },
  {
   "cell_type": "markdown",
   "metadata": {},
   "source": [
    "Install NLTK\n",
    "\n",
    "pip install --user -U nltk\n"
   ]
  },
  {
   "cell_type": "markdown",
   "metadata": {},
   "source": [
    "# Clean and Pre-Process reviews\n",
    "1. Remove punctuation and convert to lowercase (done above)\n",
    "2. Tokenize the text\n",
    "3. Remove stop words\n",
    "4. Stem text\n",
    "5. Remove short words"
   ]
  },
  {
   "cell_type": "code",
   "execution_count": 5,
   "metadata": {},
   "outputs": [],
   "source": [
    "\n",
    "from pyspark.ml.feature import  StopWordsRemover, CountVectorizer,Tokenizer\n",
    "from nltk.stem.snowball import SnowballStemmer\n",
    "\n",
    "\n",
    "#Tokenize the text in the text column\n",
    "tokenizer = Tokenizer(inputCol=\"text\", outputCol=\"words\")\n",
    "wordsDataFrame = tokenizer.transform(sprev_df)\n",
    "\n",
    "\n",
    "#remove 20 most occuring documents, documents with non numeric characters, and documents with <= 3 characters\n",
    "cv_tmp = CountVectorizer(inputCol=\"words\", outputCol=\"tmp_vectors\")\n",
    "cv_tmp_model = cv_tmp.fit(wordsDataFrame)\n",
    "\n",
    "\n",
    "top20 = list(cv_tmp_model.vocabulary[0:20])\n",
    "more_then_3_charachters = [word for word in cv_tmp_model.vocabulary if len(word) <= 3]\n",
    "contains_digits = [word for word in cv_tmp_model.vocabulary if any(char.isdigit() for char in word)]\n",
    "englishwords = StopWordsRemover.loadDefaultStopWords(\"english\")\n",
    "stopwords = [\"a\",\"able\",\"about\",\"above\",\"abst\",\"accordance\",\"according\",\"accordingly\",\"across\",\"act\",\"actually\",\n",
    "             \"added\",\"adj\",\"affected\",\"affecting\",\"affects\",\"after\",\"afterwards\",\"again\",\"against\",\"ah\",\"all\",\n",
    "             \"almost\",\"alone\",\"along\",\"already\",\"also\",\"although\",\"always\",\"am\",\"among\",\"amongst\",\"an\",\"and\",\n",
    "             \"announce\",\"another\",\"any\",\"anybody\",\"anyhow\",\"anymore\",\"anyone\",\"anything\",\"anyway\",\"anyways\",\n",
    "             \"anywhere\",\"apparently\",\"approximately\",\"are\",\"aren\",\"arent\",\"arise\",\"around\",\"as\",\"aside\",\"ask\",\n",
    "             \"asking\",\"at\",\"auth\",\"available\",\"away\",\"awfully\",\"b\",\"back\",\"be\",\"became\",\"because\",\"become\",\n",
    "             \"becomes\",\"becoming\",\"been\",\"before\",\"beforehand\",\"begin\",\"beginning\",\"beginnings\",\"begins\",\n",
    "             \"behind\",\"being\",\"believe\",\"below\",\"beside\",\"besides\",\"between\",\"beyond\",\"biol\",\"both\",\"brief\",\n",
    "             \"briefly\",\"but\",\"by\",\"c\",\"ca\",\"came\",\"can\",\"cannot\",\"cant\",\"cause\",\"causes\",\"certain\",\"certainly\",\n",
    "             \"co\",\"com\",\"come\",\"comes\",\"contain\",\"containing\",\"contains\",\"could\",\"couldnt\",\"d\",\"date\",\"did\",\n",
    "             \"didnt\",\"different\",\"do\",\"does\",\"doesnt\",\"doing\",\"done\",\"dont\",\"down\",\"downwards\",\"due\",\"during\",\n",
    "             \"e\",\"each\",\"ed\",\"edu\",\"effect\",\"eg\",\"eight\",\"eighty\",\"either\",\"else\",\"elsewhere\",\"end\",\"ending\",\n",
    "             \"enough\",\"especially\",\"et\",\"et-al\",\"etc\",\"even\",\"ever\",\"every\",\"everybody\",\"everyone\",\"everything\",\n",
    "             \"everywhere\",\"ex\",\"except\",\"f\",\"far\",\"few\",\"ff\",\"fifth\",\"first\",\"five\",\"fix\",\"followed\",\"following\",\n",
    "             \"follows\",\"for\",\"former\",\"formerly\",\"forth\",\"found\",\"four\",\"from\",\"further\",\"furthermore\",\"g\",\"gave\",\n",
    "             \"get\",\"gets\",\"getting\",\"give\",\"given\",\"gives\",\"giving\",\"go\",\"goes\",\"gone\",\"got\",\"gotten\",\"h\",\"had\",\n",
    "             \"happens\",\"hardly\",\"has\",\"hasnt\",\"have\",\"havent\",\"having\",\"he\",\"hed\",\"hence\",\"her\",\"here\",\n",
    "             \"hereafter\",\"hereby\",\"herein\",\"heres\",\"hereupon\",\"hers\",\"herself\",\"hes\",\"hi\",\"hid\",\"him\",\"himself\",\n",
    "             \"his\",\"hither\",\"home\",\"how\",\"howbeit\",\"however\",\"hundred\",\"i\",\"id\",\"ie\",\"if\",\"ill\",\"im\",\"immediate\",\n",
    "             \"immediately\",\"importance\",\"important\",\"in\",\"inc\",\"indeed\",\"index\",\"information\",\"instead\",\"into\",\n",
    "             \"invention\",\"inward\",\"is\",\"isnt\",\"it\",\"itd\",\"itll\",\"its\",\"itself\",\"ive\",\"j\",\"just\",\"k\",\"keep\",\n",
    "             \"keeps\",\"kept\",\"kg\",\"km\",\"know\",\"known\",\"knows\",\"l\",\"largely\",\"last\",\"lately\",\"later\",\"latter\",\n",
    "             \"latterly\",\"least\",\"less\",\"lest\",\"let\",\"lets\",\"like\",\"liked\",\"likely\",\"line\",\"little\",\"ll\",\"look\",\n",
    "             \"looking\",\"looks\",\"ltd\",\"m\",\"made\",\"mainly\",\"make\",\"makes\",\"many\",\"may\",\"maybe\",\"me\",\"mean\",\"means\",\n",
    "             \"meantime\",\"meanwhile\",\"merely\",\"mg\",\"might\",\"million\",\"miss\",\"ml\",\"more\",\"moreover\",\"most\",\"mostly\",\n",
    "             \"mr\",\"mrs\",\"much\",\"mug\",\"must\",\"my\",\"myself\",\"n\",\"na\",\"name\",\"namely\",\"nay\",\"nd\",\"near\",\"nearly\",\n",
    "             \"necessarily\",\"necessary\",\"need\",\"needs\",\"neither\",\"never\",\"nevertheless\",\"new\",\"next\",\"nine\",\n",
    "             \"ninety\",\"no\",\"nobody\",\"non\",\"none\",\"nonetheless\",\"noone\",\"nor\",\"normally\",\"nos\",\"not\",\"noted\",\n",
    "             \"nothing\",\"now\",\"nowhere\",\"o\",\"obtain\",\"obtained\",\"obviously\",\"of\",\"off\",\"often\",\"oh\",\"ok\",\"okay\",\n",
    "             \"old\",\"omitted\",\"on\",\"once\",\"one\",\"ones\",\"only\",\"onto\",\"or\",\"ord\",\"other\",\"others\",\"otherwise\",\n",
    "             \"ought\",\"our\",\"ours\",\"ourselves\",\"out\",\"outside\",\"over\",\"overall\",\"owing\",\"own\",\"p\",\"page\",\"pages\",\n",
    "             \"part\",\"particular\",\"particularly\",\"past\",\"per\",\"perhaps\",\"placed\",\"please\",\"plus\",\"poorly\",\n",
    "             \"possible\",\"possibly\",\"potentially\",\"pp\",\"predominantly\",\"present\",\"previously\",\"primarily\",\n",
    "             \"probably\",\"promptly\",\"proud\",\"provides\",\"put\",\"q\",\"que\",\"quickly\",\"quite\",\"qv\",\"r\",\"ran\",\"rather\",\n",
    "             \"rd\",\"re\",\"readily\",\"really\",\"recent\",\"recently\",\"ref\",\"refs\",\"regarding\",\"regardless\",\"regards\",\n",
    "             \"related\",\"relatively\",\"research\",\"respectively\",\"resulted\",\"resulting\",\"results\",\"right\",\"run\",\"s\",\n",
    "             \"said\",\"same\",\"saw\",\"say\",\"saying\",\"says\",\"sec\",\"section\",\"see\",\"seeing\",\"seem\",\"seemed\",\"seeming\",\n",
    "             \"seems\",\"seen\",\"self\",\"selves\",\"sent\",\"seven\",\"several\",\"shall\",\"she\",\"shed\",\"shell\",\"shes\",\"should\",\n",
    "             \"shouldnt\",\"show\",\"showed\",\"shown\",\"showns\",\"shows\",\"significant\",\"significantly\",\"similar\",\"similarly\",\n",
    "             \"since\",\"six\",\"slightly\",\"so\",\"some\",\"somebody\",\"somehow\",\"someone\",\"somethan\",\"something\",\"sometime\",\n",
    "             \"sometimes\",\"somewhat\",\"somewhere\",\"soon\",\"sorry\",\"specifically\",\"specified\",\"specify\",\"specifying\",\n",
    "             \"still\",\"stop\",\"strongly\",\"sub\",\"substantially\",\"successfully\",\"such\",\"sufficiently\",\"suggest\",\"sup\",\n",
    "             \"sure\",\"ts\",\"take\",\"taken\",\"tell\",\"tends\",\"th\",\"than\",\"thank\",\"thanks\",\"thanx\",\"that\",\"thats\",\n",
    "             \"the\",\"their\",\"theirs\",\"them\",\"themselves\",\"then\",\"thence\",\"there\",\"theres\",\"thereafter\",\"thereby\",\n",
    "             \"therefore\",\"therein\",\"theres\",\"thereupon\",\"these\",\"they\",\"theyd\",\"theyll\",\"theyre\",\"theyve\",\"think\",\n",
    "             \"third\",\"this\",\"thorough\",\"thoroughly\",\"those\",\"though\",\"three\",\"through\",\"throughout\",\"thru\",\"thus\",\n",
    "             \"to\",\"together\",\"too\",\"took\",\"toward\",\"towards\",\"tried\",\"tries\",\"truly\",\"try\",\"trying\",\"twice\",\"two\",\n",
    "             \"un\",\"under\",\"unfortunately\",\"unless\",\"unlikely\",\"until\",\"unto\",\"up\",\"upon\",\"us\",\"use\",\"used\",\"useful\",\n",
    "             \"uses\",\"using\",\"usually\",\"value\",\"various\",\"very\",\"via\",\"viz\",\"vs\",\"want\",\"wants\",\"was\",\"wasnt\",\"way\",\n",
    "             \"we\",\"wed\",\"well\",\"were\",\"weve\",\"welcome\",\"well\",\"went\",\"were\",\"werent\",\"what\",\"whats\",\"whatever\",\n",
    "             \"when\",\"whence\",\"whenever\",\"where\",\"wheres\",\"whereafter\",\"whereas\",\"whereby\",\"wherein\",\"whereupon\",\n",
    "             \"wherever\",\"whether\",\"which\",\"while\",\"whither\",\"who\",\"whos\",\"whoever\",\"whole\",\"whom\",\"whose\",\"why\",\"will\",\n",
    "             \"willing\",\"wish\",\"with\",\"within\",\"without\",\"wont\",\"wonder\",\"would\",\"wouldnt\",\"yes\",\"yet\",\"you\",\"youd\",\n",
    "             \"youll\",\"youre\",\"youve\",\"your\",\"yours\",\"yourself\",\"yourselves\",\"zero\",\"template\",\"align\",\"center\",\"cite\",\n",
    "             \"style\",\"left\",\"web\",\"flagicon\",\"references\",\"rowspan\",\"width\",\"infobox\",\"colspan\",\"class\",\"time\",\n",
    "             \"external\",\"links\",\"background\",\"reflist\",\"area\",\"bgcolor\",\"wikitable\",\"top\",\"http\",\"reflisttemplate\",\n",
    "             \"including\",\"list\",\"main\",\"icon\",\"coord\",\"title\",\"webtemplate\",\"border\",\"website\",\"row\",\"include\",\n",
    "             \"site\",\"col\",\"set\",\"large\",\"san\",\"valign\",\"color\",\"sort\",\"halign\",\"align\",\"dfdddf\",\"dfbbbf\",\n",
    "             \"persondatadefaultsort\",\"rt\",\"really\",\"tried\",\"told\",\"tell\",\"living\",\"getting\",\"pros\",\"cons\",\"come\",\"else\",\n",
    "             \"reason\",\"fun\",\"sure\",\"excess\",\"side\",\"way\",\"away\",\"past\",\"cannot\",\"also\",\"even\",\"get\",\"although\",\"nothing\",\n",
    "             \"part\",\"confirmed\",\"huge\",\"heard\",\"enjoyed\",\"enjoy\",\"great\",\"excellent\",\"nice\",\"amazing\",\"loved\",\"love\",\n",
    "             \"beautiful\",\"awesome\", \"wonderful\",\"great\",\"bit\",\"thank\",\"fantastic\",\"perfect\",\"little\",\"helpful\",\"happy\",\n",
    "             \"highly\",\"incredible\",\"good\",\"terrible\",\"worst\",\"horrible\",\"poor\",\"broken\",\"manager\",\"ever\", \"worst\",\n",
    "             \"awful\",\"hair\",\"dime\",\"family\",\"everyone\",\"easy\",\"quick\",\"treat\",\"terribly\",\"lot\",\"rude\",\"called\",\n",
    "             \"car\",\"complained\",\"someone\",\"phone\",\"wynn\",\"except\",\"able\",\"run\",\"nickel\",\"someone\",\"easy\",\"happy\",\n",
    "             \"newly\",\"comfimed\",\"theyr\",\"excuse\",\"best\",\"complain\",\"beyond\",\"apology\",\"guest\",\"said\",\"glad\",\n",
    "             \"multiple\",\"disgust\",\"friendly\",\"call\",\"bad\",\"wall\",\"charged\",\"sheet\",\"nasty\",\"body\",\"thin\",\"ruined\",\n",
    "             \"joke\",\"worse\",\"outstanding\",\"pleasant\",\"promised\",\"elsewhere\",\"terribly\",\"professional\",\n",
    "             \"unprofessional\",\"manager\",\"dont\",\"waited\",\"customer\",\"booked\",\"move\",\"disappointed\",\"pm\",\"asked\",\n",
    "             \"wrong\",\"money\",\"left\",\"care\",\"bug\",\"changed\",\"change\",\"completely\",\"contacted\",\"work\",\"sit\",\"hour\",\n",
    "             \"upgraded\",\"pay\",\"paid\",\"well\",\"old\",\"large\",\"used\",\"sorry\",\"understand\",\"type\",\"smaller\",\"kind\",\"quite\",\n",
    "             \"bringing\",\"guess\",\"real\",\"finally\",\"okay\",\"personality\",\"probably\",\"insanely\",\"typically\",\"kinda\",\"yesterday\",\n",
    "             \"usually\",\"greatly\",\"need\",\"absolutely\",\"willing\",\"husband\",\"years\",\"itll\",\"yetwel\"]\n",
    "\n",
    "#Combine the four stopwords\n",
    "stopwords = stopwords + top20 + more_then_3_charachters + contains_digits + englishwords\n",
    "\n",
    "#Remove stopwords from the tokenized list\n",
    "remover = StopWordsRemover(inputCol=\"words\", outputCol=\"filtered\", stopWords = stopwords)\n",
    "wordsDataFrame = remover.transform(wordsDataFrame)\n",
    "\n",
    "# Stem text\n",
    "stemmer = SnowballStemmer(language='english')\n",
    "stemmer_udf = udf(lambda tokens: [stemmer.stem(token) for token in tokens], ArrayType(StringType()))\n",
    "wordsDataFrame = wordsDataFrame.withColumn(\"words_stemmed\", stemmer_udf(\"filtered\")).select('*', 'words_stemmed')\n",
    "\n",
    "\n",
    "#Create a new CountVectorizer model without the stopwords\n",
    "cv = CountVectorizer(inputCol=\"words_stemmed\", outputCol=\"features\")\n",
    "cvmodel = cv.fit(wordsDataFrame)\n",
    "df_final_reviews = cvmodel.transform(wordsDataFrame)\n"
   ]
  },
  {
   "cell_type": "code",
   "execution_count": 17,
   "metadata": {},
   "outputs": [
    {
     "name": "stdout",
     "output_type": "stream",
     "text": [
      "+-----+--------------------+--------------------+\n",
      "|label|                text|       words_stemmed|\n",
      "+-----+--------------------+--------------------+\n",
      "|  5.0|i just love love ...|[place, staff, pl...|\n",
      "|  1.0|i have been calli...|[call, email, sto...|\n",
      "|  3.0|it was picking up...|[pick, number, sw...|\n",
      "|  4.0|how can you not l...|[bore, gear, hike...|\n",
      "|  3.0|not a bad store i...|[store, small, cr...|\n",
      "|  3.0|while it may be b...|[bigger, lot, thi...|\n",
      "|  2.0|the only time i w...|[return, simpl, a...|\n",
      "|  5.0|i am not sure how...|[place, rate, exp...|\n",
      "|  5.0|im not a runner i...|[runner, shape, s...|\n",
      "|  2.0|i saw that the ru...|[run, room, start...|\n",
      "|  2.0|ah yes finish lin...|[finish, west, to...|\n",
      "|  3.0|so i will say tha...|[banana, republ, ...|\n",
      "|  4.0|what can you say ...|[sport, apparel, ...|\n",
      "|  5.0|well i have been ...|[come, mountain, ...|\n",
      "|  5.0|the better of the...|[better, adida, l...|\n",
      "|  3.0|i am familiar wit...|[familiar, locat,...|\n",
      "|  3.0|on the smaller si...|[compar, rei, sel...|\n",
      "|  4.0|rei is heaven for...|[heaven, outdoor,...|\n",
      "|  4.0|bikesource is a g...|[bikesourc, bike,...|\n",
      "|  2.0|local outdoor sto...|[local, outdoor, ...|\n",
      "+-----+--------------------+--------------------+\n",
      "only showing top 20 rows\n",
      "\n"
     ]
    }
   ],
   "source": [
    "#Data ready to analyze\n",
    "df_final_reviews.select(\"label\",\"text\",\"words_stemmed\").show()"
   ]
  },
  {
   "cell_type": "markdown",
   "metadata": {},
   "source": [
    "Prepare the training anf test data:\n",
    "\n",
    "Low satisfaction = stars<=3  label =0\n",
    "\n",
    "High saisfaction = stars>=4  label =1\n",
    "\n",
    "Create the Train and Test DataFrames combining low and high satisfaction\n"
   ]
  },
  {
   "cell_type": "code",
   "execution_count": 6,
   "metadata": {},
   "outputs": [],
   "source": [
    "from pyspark.sql.functions import lit\n",
    "highsat =df_final_reviews.filter(df_final_reviews[\"label\"]>=4).withColumn(\"label\",lit(1)) \n",
    "lowsat = df_final_reviews.filter(df_final_reviews[\"label\"]<=3).withColumn(\"label\",lit(0)) \n",
    "highsat_train, highsat_test = highsat.randomSplit([0.7, 0.3], seed=12345)\n",
    "lowsat_train, lowsat_test = lowsat.randomSplit([0.7, 0.3], seed=12345)\n",
    "train_data = highsat_train.union(lowsat_train).select(\"label\",\"features\",\"words_stemmed\")\n",
    "test_data = highsat_test.union(lowsat_test).select(\"label\",\"features\",\"words_stemmed\")"
   ]
  },
  {
   "cell_type": "markdown",
   "metadata": {},
   "source": [
    "# Logitic Regression\n",
    "Create the pipeline and the model for logistic regression with cross-validation K-fold =10\n",
    "\n",
    "Train the model and evaluate the results"
   ]
  },
  {
   "cell_type": "code",
   "execution_count": 7,
   "metadata": {},
   "outputs": [
    {
     "name": "stdout",
     "output_type": "stream",
     "text": [
      "0.5732560122804025\n"
     ]
    }
   ],
   "source": [
    "from pyspark.ml.classification import LogisticRegression\n",
    "from pyspark.ml.tuning import ParamGridBuilder, CrossValidator\n",
    "from pyspark.ml.evaluation import MulticlassClassificationEvaluator\n",
    "\n",
    "lr = LogisticRegression(maxIter=20)#, regParam=0.3, elasticNetParam=0)\n",
    "# Create ParamGrid for Cross Validation\n",
    "paramGrid = (ParamGridBuilder()\n",
    "             .addGrid(lr.regParam, [0.0001, 0.0003, 0.0005]) # regularization parameter\n",
    "             .addGrid(lr.elasticNetParam, [0.0, 0.01, 0.02]) # Elastic Net Parameter (Ridge = 0)\n",
    "             .build())\n",
    "# Create 10-fold CrossValidator\n",
    "evaluator = MulticlassClassificationEvaluator(predictionCol=\"prediction\")\n",
    "\n",
    "cv = CrossValidator(estimator=lr, \\\n",
    "                    estimatorParamMaps=paramGrid, \\\n",
    "                    evaluator=evaluator, \\\n",
    "                    numFolds=10)\n",
    "cvModel = cv.fit(train_data)\n",
    "#model = lr.fit(train_data)\n",
    "predictions = cvModel.transform(test_data)\n",
    "# Evaluate best model\n",
    "e=evaluator.evaluate(predictions)\n",
    "print(e)"
   ]
  },
  {
   "cell_type": "code",
   "execution_count": 8,
   "metadata": {},
   "outputs": [
    {
     "name": "stdout",
     "output_type": "stream",
     "text": [
      "Comment 1, Actual:1.000000 --> prediction = 1.000000\n",
      "Comment 2, Actual:1.000000 --> prediction = 1.000000\n",
      "Comment 3, Actual:1.000000 --> prediction = 1.000000\n",
      "Comment 4, Actual:1.000000 --> prediction = 1.000000\n",
      "Comment 5, Actual:1.000000 --> prediction = 1.000000\n",
      "Comment 6, Actual:1.000000 --> prediction = 1.000000\n",
      "Comment 7, Actual:1.000000 --> prediction = 1.000000\n",
      "Comment 8, Actual:1.000000 --> prediction = 1.000000\n",
      "Comment 9, Actual:1.000000 --> prediction = 1.000000\n",
      "Comment 10, Actual:1.000000 --> prediction = 1.000000\n"
     ]
    }
   ],
   "source": [
    "#Test some Prediction\n",
    "selected = predictions.select(\"label\",\"prediction\")\n",
    "sample =  selected.limit(10)\n",
    "id=0\n",
    "for row in sample.collect():\n",
    "    label, prediction = row\n",
    "    id=id+1\n",
    "    print(\"Comment %d, Actual:%f --> prediction = %f\" %(id,label, prediction))"
   ]
  },
  {
   "cell_type": "code",
   "execution_count": 12,
   "metadata": {},
   "outputs": [],
   "source": [
    "#Grab the positive and negative sentiment reviews\n",
    "pos_rev = predictions.filter(predictions[\"prediction\"]==1).select(\"features\",\"words_stemmed\")\n",
    "neg_rev = predictions.filter(predictions[\"prediction\"]==0).select(\"features\",\"words_stemmed\")"
   ]
  },
  {
   "cell_type": "markdown",
   "metadata": {},
   "source": [
    "# LDA Classification\n",
    "Classify the possitive and negative comments to discover the most talked about topics"
   ]
  },
  {
   "cell_type": "code",
   "execution_count": 13,
   "metadata": {},
   "outputs": [],
   "source": [
    "from pyspark.ml.clustering import LDA\n",
    "\n",
    "lda = LDA(k=10, maxIter=10)\n",
    "model_pos = lda.fit(pos_rev)\n",
    "model_neg = lda.fit(neg_rev)\n"
   ]
  },
  {
   "cell_type": "code",
   "execution_count": 15,
   "metadata": {},
   "outputs": [
    {
     "name": "stdout",
     "output_type": "stream",
     "text": [
      " ################# POSITIVE TOPICS ################\n",
      "Topic: 0\n",
      "logo,page,numer,total,imagin,onlin,fender,msrp,workoutahol,close,\n",
      "Topic: 1\n",
      "better,locat,adida,town,busi,vlos,hectic,work,villag,twist,\n",
      "Topic: 2\n",
      "heart,shape,madison,top,down,lookin,complet,develop,fit,earth,\n",
      "Topic: 3\n",
      "friday,multisport,unpretenti,sock,eric,salesperson,juif,abroad,birthday,pull,\n",
      "Topic: 4\n",
      "amazon,price,thing,medicin,cheapercommon,sidewalk,ball,food,sens,find,\n",
      "Topic: 5\n",
      "difficult,friendlier,cours,sens,import,brightest,place,mall,closer,serv,\n",
      "Topic: 6\n",
      "store,select,gear,employe,busi,local,cloth,star,clean,perus,\n",
      "Topic: 7\n",
      "lazi,trip,grip,assist,hard,alex,person,ware,rei,banquet,\n",
      "Topic: 8\n",
      "packer,adorn,owner,corner,suppos,help,group,multisport,handgun,run,\n",
      "Topic: 9\n",
      "bike,place,time,shop,minut,guy,help,wheel,break,true,\n"
     ]
    }
   ],
   "source": [
    "topics = model_pos.describeTopics(10)\n",
    "print (\" ################# POSITIVE TOPICS ################\")\n",
    "for topic in topics.rdd.toLocalIterator():\n",
    "    print(\"Topic: \" + str(topic[0]))\n",
    "    words = \"\"\n",
    "    for n in range(len(topic[1])):\n",
    "        words = words + cvmodel.vocabulary[topic[1][n]]+ \",\"\n",
    "    print (words)"
   ]
  },
  {
   "cell_type": "code",
   "execution_count": 44,
   "metadata": {},
   "outputs": [
    {
     "name": "stdout",
     "output_type": "stream",
     "text": [
      "Negative topics\n",
      "Topic: 0\n",
      "ocean,wholefood,rei,white,handgun,wore,shannon,woman,indepth,refresh,\n",
      "Topic: 1\n",
      "store,servic,experi,shoe,help,sale,size,time,josh,star,\n",
      "Topic: 2\n",
      "exchangeim,innov,interact,bicycl,houpert,treadmil,crave,beverag,peai,fork,\n",
      "Topic: 3\n",
      "betti,bar,level,flipflop,jose,rediect,silk,raffl,georg,himyou,\n",
      "Topic: 4\n",
      "clark,overpron,hous,perform,automat,know,corpor,hyatt,sweati,join,\n",
      "Topic: 5\n",
      "shame,capri,insol,cold,alma,machin,villeneuv,novel,cadenc,choos,\n",
      "Topic: 6\n",
      "chees,inhous,skateboard,frozen,inquiri,stand,stack,cloth,unbeat,cramp,\n",
      "Topic: 7\n",
      "nicest,compet,firearm,space,generous,waiv,tube,gel,chuckl,perfect,\n",
      "Topic: 8\n",
      "instal,fender,bike,tire,bolt,sold,rub,wheel,hand,small,\n",
      "Topic: 9\n",
      "cardin,thank,earn,luke,fine,bestlook,velofix,chop,rhetor,someon,\n"
     ]
    }
   ],
   "source": [
    "topics = model_neg.describeTopics(10)\n",
    "print (\"############ NEGATIVE TOPICS ###########\")\n",
    "for topic in topics.rdd.toLocalIterator():\n",
    "    print(\"Topic: \" + str(topic[0]))\n",
    "    words = \"\"\n",
    "    for n in range(len(topic[1])):\n",
    "        words = words + cvmodel.vocabulary[topic[1][n]]+ \",\"\n",
    "    print (words)"
   ]
  },
  {
   "cell_type": "code",
   "execution_count": 16,
   "metadata": {},
   "outputs": [
    {
     "name": "stdout",
     "output_type": "stream",
     "text": [
      "############ NEGATIVE WORDS ###########\n",
      "[('small', 7), ('scottsdal', 2), ('choos', 2), ('coupon', 2), ('super', 1), ('impress', 1), ('walk', 1), ('figur', 1), ('feel', 1), ('current', 1), ('women', 1), ('full', 1), ('suspens', 1), ('receiv', 1), ('type', 1), ('drove', 1), ('take', 1), ('minut', 1), ('shop', 1), ('servic', 1)]\n"
     ]
    }
   ],
   "source": [
    "######Negative talked about words\n",
    "print (\"############ NEGATIVE WORDS ###########\")\n",
    "neg_freq=neg_rev.select(\"words_stemmed\")\n",
    "neg_words=neg_freq.rdd.flatMap(lambda a: [(w,1) for w in a.words_stemmed]).reduceByKey(lambda a,b: a+b).sortBy(lambda a:-a[1]).take(20)\n",
    "print (neg_words)"
   ]
  },
  {
   "cell_type": "markdown",
   "metadata": {},
   "source": [
    "Install necesary libraries for geoploting\n",
    "\n",
    "conda install geopandas\n",
    "\n",
    "conda install descartes"
   ]
  },
  {
   "cell_type": "code",
   "execution_count": 39,
   "metadata": {},
   "outputs": [
    {
     "data": {
      "image/png": "[encoded data removed]",
      "text/plain": [
       "<Figure size 432x288 with 1 Axes>"
      ]
     },
     "metadata": {
      "needs_background": "light"
     },
     "output_type": "display_data"
    }
   ],
   "source": [
    "#Do something with Long Lat\n",
    "import pandas as pd\n",
    "import geopandas as gpd\n",
    "import matplotlib.pyplot as plt\n",
    "import numpy as np\n",
    "\n",
    "#Only plot business in the US\n",
    "us_bus = spbus_df.filter(spbus_df[\"longitude\"]>=-126.56).filter(spbus_df[\"longitude\"]<=-66.45)\\\n",
    ".filter(spbus_df[\"latitude\"]>=25.17).filter(spbus_df[\"latitude\"]<=48.92)\n",
    "\n",
    "geobus_df = us_bus.select(\"*\").toPandas()\n",
    "geobus_df[\"longitude\"] = pd.to_numeric(geobus_df[\"longitude\"], downcast=\"float\")\n",
    "geobus_df[\"latitude\"] = pd.to_numeric(geobus_df[\"latitude\"], downcast=\"float\")\n",
    "\n",
    "gdf = geopandas.GeoDataFrame(\n",
    "    geobus_df, geometry=geopandas.points_from_xy(geobus_df.longitude, geobus_df.latitude))\n",
    "\n",
    "\n",
    "# Read in the shapefile from cb_2016_us_state_500k as \"states\"\n",
    "states = gpd.read_file(\"cb_2016_us_state_500k/cb_2016_us_state_500k.shp\")\n",
    "# Get rid of Guam, Mariana Islands and Virgin Islands\n",
    "states = states[states.STATEFP.astype(int) < 60]\n",
    "# Get rid of Hawaii and Alaska\n",
    "states = states[~states.NAME.isin(['Hawaii', 'Alaska'])]\n",
    "states.tail(5)\n",
    "\n",
    "ax = states.plot()\n",
    "gdf.plot(ax=ax, color='red')\n",
    "plt.show()\n",
    "\n",
    "\n"
   ]
  },
  {
   "cell_type": "code",
   "execution_count": null,
   "metadata": {},
   "outputs": [],
   "source": []
  }
 ],
 "metadata": {
  "kernelspec": {
   "display_name": "Python 3",
   "language": "python",
   "name": "python3"
  },
  "language_info": {
   "codemirror_mode": {
    "name": "ipython",
    "version": 3
   },
   "file_extension": ".py",
   "mimetype": "text/x-python",
   "name": "python",
   "nbconvert_exporter": "python",
   "pygments_lexer": "ipython3",
   "version": "3.7.3"
  }
 },
 "nbformat": 4,
 "nbformat_minor": 2
}
